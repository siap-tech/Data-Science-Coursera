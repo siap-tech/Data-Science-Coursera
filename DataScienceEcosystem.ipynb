{
  "nbformat": 4,
  "nbformat_minor": 0,
  "metadata": {
    "colab": {
      "provenance": [],
      "authorship_tag": "ABX9TyPJ6OFyF/QxJDzYgXpurV8p",
      "include_colab_link": true
    },
    "kernelspec": {
      "name": "python3",
      "display_name": "Python 3"
    },
    "language_info": {
      "name": "python"
    }
  },
  "cells": [
    {
      "cell_type": "markdown",
      "metadata": {
        "id": "view-in-github",
        "colab_type": "text"
      },
      "source": [
        "<a href=\"https://colab.research.google.com/github/siap-tech/Data-Science-Coursera/blob/main/DataScienceEcosystem.ipynb\" target=\"_parent\"><img src=\"https://colab.research.google.com/assets/colab-badge.svg\" alt=\"Open In Colab\"/></a>"
      ]
    },
    {
      "cell_type": "markdown",
      "source": [
        "# Data Science Tools and Ecosystem\n"
      ],
      "metadata": {
        "id": "Qawn4WL0LxtL"
      }
    },
    {
      "cell_type": "markdown",
      "source": [
        "## In this notebook, Data Science Tools and Ecosystem are summarized."
      ],
      "metadata": {
        "id": "8Q2nLLFUNRy6"
      }
    },
    {
      "cell_type": "markdown",
      "source": [
        "## Some of the popular languages that Data Scientists use are:\n",
        "\n",
        "\n",
        "\n",
        "\n",
        "1.   Python\n",
        "2.   R\n",
        "3.   SQL\n",
        "4.   Scala\n",
        "5.   Julia\n",
        "\n",
        "\n",
        "\n"
      ],
      "metadata": {
        "id": "uuGKPxOYN9wP"
      }
    },
    {
      "cell_type": "markdown",
      "source": [
        "## Some of the commonly used libraries used by Data Scientists include:\n",
        "\n",
        "\n",
        "\n",
        "1.  Pandas\n",
        "2.  NumPy\n",
        "3.  Matplotlib\n",
        "4.  Scikit-learn\n",
        "5.  TensorFlow\n",
        "6.  PyTorch\n",
        "\n"
      ],
      "metadata": {
        "id": "cn6V9zT-Og5N"
      }
    },
    {
      "cell_type": "markdown",
      "source": [
        "\n",
        "\n",
        "| Data Science Tools        |\n",
        "|---------------------------|\n",
        "| Jupyter Notebooks         |\n",
        "| RStudio                   |\n",
        "| Apache Hadoop             |\n",
        "| TensorFlow                |\n",
        "| Apache Spark              |"
      ],
      "metadata": {
        "id": "BKwyHHGFO9Nx"
      }
    },
    {
      "cell_type": "markdown",
      "source": [
        "### Below are a few examples of evaluating arithmetic expressions in Python"
      ],
      "metadata": {
        "id": "cd6HO0-dQWgJ"
      }
    },
    {
      "cell_type": "code",
      "source": [
        "#This a simple arithmetic expression to mutiply then add integers\n",
        "\n",
        "(3*4)+5\n"
      ],
      "metadata": {
        "colab": {
          "base_uri": "https://localhost:8080/"
        },
        "id": "6Yr19CNnQh5E",
        "outputId": "c2ff0c2a-6294-4ade-98ab-7546ec4ac618"
      },
      "execution_count": 6,
      "outputs": [
        {
          "output_type": "execute_result",
          "data": {
            "text/plain": [
              "17"
            ]
          },
          "metadata": {},
          "execution_count": 6
        }
      ]
    },
    {
      "cell_type": "code",
      "source": [
        "# This will convert 200 minutes to hours by diving by 60\n",
        "\n",
        "200 / 60"
      ],
      "metadata": {
        "colab": {
          "base_uri": "https://localhost:8080/"
        },
        "id": "Y-CwGDk-RC83",
        "outputId": "c919cd67-a3bb-4a87-e1e5-546d7ab456e9"
      },
      "execution_count": 7,
      "outputs": [
        {
          "output_type": "execute_result",
          "data": {
            "text/plain": [
              "3.3333333333333335"
            ]
          },
          "metadata": {},
          "execution_count": 7
        }
      ]
    },
    {
      "cell_type": "markdown",
      "source": [
        "## **Objectives:**\n",
        "\n",
        "\n",
        "* List data science languages\n",
        "* List data science libraries\n",
        "* Demonstrate arithmetic operations\n",
        "* Create a table of data science tools\n",
        "* Convert units (e.g., minutes to hours)\n",
        "\n"
      ],
      "metadata": {
        "id": "R69IXl6IRzo6"
      }
    },
    {
      "cell_type": "markdown",
      "source": [
        "## Author\n",
        "\n",
        "Name: Simona"
      ],
      "metadata": {
        "id": "9W_pw0RrSXee"
      }
    }
  ]
}